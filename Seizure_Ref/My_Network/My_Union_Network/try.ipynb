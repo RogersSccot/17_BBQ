{
 "cells": [
  {
   "cell_type": "code",
   "execution_count": null,
   "metadata": {},
   "outputs": [],
   "source": [
    "import numpy as np\n",
    "import matplotlib.pyplot as plt\n",
    "num_points=300\n",
    "radius=1\n",
    "r = np.random.uniform(0.5, 1, 300)\n",
    "theta = 2 * np.pi * np.random.rand(num_points)\n",
    "x = r * np.cos(theta)\n",
    "y = r * np.sin(theta)\n",
    "outer_points=np.column_stack((x, y))\n",
    "outer_points.shape"
   ]
  },
  {
   "cell_type": "code",
   "execution_count": null,
   "metadata": {},
   "outputs": [],
   "source": [
    "# outer_points1=outer_points[np.linalg.norm(outer_points, axis=1) > 0.5][:300]\n",
    "# # outer_points1=outer_points[np.linalg.norm(outer_points, axis=1) > 0.5]\n",
    "# outer_points1.shape"
   ]
  },
  {
   "cell_type": "code",
   "execution_count": null,
   "metadata": {},
   "outputs": [],
   "source": [
    "N1=100\n",
    "N2=200\n",
    "r_inner = 0.5\n",
    "r_outer = 1\n",
    "r1 = np.random.uniform(0, 0.5, N1)\n",
    "r2 = np.random.uniform(0.5, 1, N2)\n",
    "theta1 = 2 * np.pi * np.random.rand(N1)\n",
    "theta2 = 2 * np.pi * np.random.rand(N2)\n",
    "point_inner=np.column_stack((r1 * np.cos(theta1), r1 * np.sin(theta1)))\n",
    "point_outer=np.column_stack((r2 * np.cos(theta2), r2 * np.sin(theta2)))\n",
    "fig1=plt.figure(figsize=(6,6))\n",
    "plt.scatter(point_inner[:,0], point_inner[:,1], s=10, c='b', alpha=0.5)\n",
    "plt.scatter(point_outer[:,0], point_outer[:,1], s=10, c='r', alpha=0.5)"
   ]
  },
  {
   "cell_type": "code",
   "execution_count": null,
   "metadata": {},
   "outputs": [],
   "source": [
    "#########################################################################################\n",
    "# Build the network                                                                     #\n",
    "# 1 Initialize the enough neurons                                                       #\n",
    "# 1.1 About 200 RS neurons and 50 FS neurons                                            #\n",
    "# (1)N1 2000 FS G1 Qi                                                                   #\n",
    "# (2)N2 8000 RS G2 Qe                                                                   #\n",
    "# (3)P2 8000 RS G2 Qe                                                                   #\n",
    "# 1.2 scatter the equal num if neurons to the two groups                                #\n",
    "# 1.3 build the plane structure                                                         #\n",
    "# 1.4 endow the point position to each neuron                                           #\n",
    "# 1.5 based on the position, calculate the connect probability between each neuron      #\n",
    "#########################################################################################\n",
    "\n",
    "def generate_random_points_in_circle(radius, num_points):\n",
    "    theta = 2 * np.pi * np.random.rand(num_points)\n",
    "    r = np.sqrt(np.random.rand(num_points)) * radius\n",
    "    x = r * np.cos(theta)\n",
    "    y = r * np.sin(theta)\n",
    "    return np.column_stack((x, y))\n",
    "\n",
    "# 圆的半径\n",
    "inner_radius = 0.5\n",
    "outer_radius = 1\n",
    "\n",
    "# 内圆和外环中的点数\n",
    "num_inner_points = 100\n",
    "num_outer_points = 300\n",
    "\n",
    "# 生成点\n",
    "inner_points = generate_random_points_in_circle(inner_radius, num_inner_points)\n",
    "outer_points = generate_random_points_in_circle(outer_radius, num_outer_points + num_inner_points)\n",
    "# 过滤掉位于内圆内的点\n",
    "outer_points = outer_points[np.linalg.norm(outer_points, axis=1) > inner_radius][:num_outer_points]\n",
    "\n",
    "# 绘制图像\n",
    "fig, ax = plt.subplots(figsize=(6, 6))\n",
    "circle1 = plt.Circle((0, 0), inner_radius, color='blue', fill=False, label='Inner Circle')\n",
    "circle2 = plt.Circle((0, 0), outer_radius, color='red', fill=False, label='Outer Circle')\n",
    "\n",
    "ax.add_artist(circle1)\n",
    "ax.add_artist(circle2)\n",
    "\n",
    "# 绘制点\n",
    "ax.scatter(inner_points[:, 0], inner_points[:, 1], c='green', label='Inner Points')\n",
    "ax.scatter(outer_points[:, 0], outer_points[:, 1], c='orange', label='Outer Points')\n",
    "\n",
    "# 设置等比例轴\n",
    "ax.set_aspect('equal')\n",
    "ax.legend()\n",
    "plt.xlim(-1.1, 1.1)\n",
    "plt.ylim(-1.1, 1.1)\n",
    "plt.title(\"Random Points in Inner and Outer Circles\")\n",
    "plt.show()\n"
   ]
  },
  {
   "cell_type": "code",
   "execution_count": null,
   "metadata": {},
   "outputs": [],
   "source": []
  }
 ],
 "metadata": {
  "kernelspec": {
   "display_name": "Python 3",
   "language": "python",
   "name": "python3"
  },
  "language_info": {
   "codemirror_mode": {
    "name": "ipython",
    "version": 3
   },
   "file_extension": ".py",
   "mimetype": "text/x-python",
   "name": "python",
   "nbconvert_exporter": "python",
   "pygments_lexer": "ipython3",
   "version": "3.9.18"
  }
 },
 "nbformat": 4,
 "nbformat_minor": 2
}
