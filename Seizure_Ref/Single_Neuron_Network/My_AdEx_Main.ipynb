{
 "cells": [
  {
   "cell_type": "markdown",
   "metadata": {},
   "source": [
    "# AdEx Network\n",
    "Use numpy only to build the network\n",
    "\n",
    "Set the path for the verilog"
   ]
  },
  {
   "cell_type": "code",
   "execution_count": null,
   "metadata": {},
   "outputs": [],
   "source": [
    "import numpy as np\n",
    "import matplotlib.pyplot as plt"
   ]
  },
  {
   "cell_type": "markdown",
   "metadata": {},
   "source": [
    "# units and constants\n",
    "Unified as a standard unit"
   ]
  },
  {
   "cell_type": "code",
   "execution_count": null,
   "metadata": {},
   "outputs": [],
   "source": [
    "ms=1e-3\n",
    "mV=1e-3\n",
    "nA=1e-9\n",
    "pA=1e-12\n",
    "nS=1e-9\n",
    "pF=1e-12\n",
    "# whole world time\n",
    "tick_time=0\n",
    "# minium gap time\n",
    "dt=0.1*ms\n",
    "# total time\n",
    "TotTime=4000*ms"
   ]
  },
  {
   "cell_type": "markdown",
   "metadata": {},
   "source": [
    "# AdEx neuron model\n",
    "define its characteristic parameter"
   ]
  },
  {
   "cell_type": "code",
   "execution_count": null,
   "metadata": {},
   "outputs": [],
   "source": [
    "class AdExNeuron:\n",
    "    def __init__(self, V_Neuron, w_adaptive, G_Synapsis_Excitatory, G_Synapsis_Inhibitory, \n",
    "                 E_Excitatory, E_Inhibitory, E_local, G_local, V_disturb, V_Excitatory_Threshold,C_Membrane, \n",
    "                 a_w_adaptive, tau_w_adaptive,\n",
    "                 tau_Synapsis,\n",
    "                 V_Reset_Threshold, V_Reset, b_w_adaptive):\n",
    "        # variable parameters\n",
    "        self.V_Neuron = V_Neuron\n",
    "        self.w_adaptive = w_adaptive\n",
    "        self.G_Synapsis_Excitatory = G_Synapsis_Excitatory\n",
    "        self.G_Synapsis_Inhibitory = G_Synapsis_Inhibitory\n",
    "        # fixed parameters\n",
    "        self.E_Excitatory = E_Excitatory\n",
    "        self.E_Inhibitory = E_Inhibitory\n",
    "        self.E_local = E_local\n",
    "        self.G_local = G_local\n",
    "        self.V_disturb = V_disturb\n",
    "        self.V_Excitatory_Threshold = V_Excitatory_Threshold\n",
    "        self.C_Membrane = C_Membrane\n",
    "        # adaptive parameters\n",
    "        self.a_w_adaptive = a_w_adaptive\n",
    "        self.tau_w_adaptive = tau_w_adaptive\n",
    "        self.tau_Synapsis = tau_Synapsis\n",
    "        # reset parameters\n",
    "        self.V_Reset_Threshold = V_Reset_Threshold\n",
    "        self.V_Reset = V_Reset\n",
    "        self.b_w_adaptive = b_w_adaptive"
   ]
  },
  {
   "cell_type": "code",
   "execution_count": 23,
   "metadata": {},
   "outputs": [],
   "source": [
    "# initialize singal neuron\n",
    "# Fast_Spiking_neuron=AdExNeuron(-65*mV, 0.0*pA, 0.0*nS, 0.0*nS, \n",
    "#                                0.0*mV, -80*mV, -65*mV, 10*nS, 0.5*mV, -48*mV, 200*pF,\n",
    "#                                0.0*nS, 1.0*ms, \n",
    "#                                5.0*ms,\n",
    "#                                -47.5*mV, -65*mV, 0.0*pA)\n",
    "# Regular_Spiking_neuron=AdExNeuron(-65*mV, 0.0*pA, 0.0*nS, 0.0*nS, \n",
    "#                                0.0*mV, -80*mV, -65*mV, 10*nS, 2*mV, -50*mV, 200*pF,\n",
    "#                                0.0*nS, 1000.0*ms, \n",
    "#                                5.0*ms,\n",
    "#                                -47.5*mV, -65*mV, 0.0*pA)"
   ]
  },
  {
   "cell_type": "code",
   "execution_count": 24,
   "metadata": {},
   "outputs": [],
   "source": [
    "Fast_Spiking_neuron=AdExNeuron(V_Neuron=-65*mV, w_adaptive=0.0*pA, G_Synapsis_Excitatory=0.0*nS, G_Synapsis_Inhibitory=0.0*nS,\n",
    "                                E_Excitatory=0.0*mV, E_Inhibitory=-80*mV, E_local=-65*mV, G_local=10*nS, V_disturb=0.5*mV, V_Excitatory_Threshold=-48*mV, C_Membrane=200*pF,\n",
    "                                a_w_adaptive=0.0*nS, tau_w_adaptive=1.0*ms,\n",
    "                                tau_Synapsis=5.0*ms,\n",
    "                                V_Reset_Threshold=-47.5*mV, V_Reset=-65*mV, b_w_adaptive=0.0*pA)\n",
    "Regular_Spiking_neuron=AdExNeuron(V_Neuron=-65*mV, w_adaptive=0.0*pA, G_Synapsis_Excitatory=0.0*nS, G_Synapsis_Inhibitory=0.0*nS,\n",
    "                                E_Excitatory=0.0*mV, E_Inhibitory=-80*mV, E_local=-65*mV, G_local=10*nS, V_disturb=2*mV, V_Excitatory_Threshold=-50*mV, C_Membrane=200*pF,\n",
    "                                a_w_adaptive=0.0*nS, tau_w_adaptive=1000.0*ms,\n",
    "                                tau_Synapsis=5.0*ms,\n",
    "                                V_Reset_Threshold=-47.5*mV, V_Reset=-65*mV, b_w_adaptive=0.0*pA)"
   ]
  },
  {
   "cell_type": "markdown",
   "metadata": {},
   "source": [
    "# Now Aiming at singal neuron to test its behavior\n",
    "1."
   ]
  },
  {
   "cell_type": "code",
   "execution_count": null,
   "metadata": {},
   "outputs": [],
   "source": [
    "\n",
    "\n"
   ]
  }
 ],
 "metadata": {
  "kernelspec": {
   "display_name": "Python 3",
   "language": "python",
   "name": "python3"
  },
  "language_info": {
   "codemirror_mode": {
    "name": "ipython",
    "version": 3
   },
   "file_extension": ".py",
   "mimetype": "text/x-python",
   "name": "python",
   "nbconvert_exporter": "python",
   "pygments_lexer": "ipython3",
   "version": "3.9.18"
  }
 },
 "nbformat": 4,
 "nbformat_minor": 2
}
