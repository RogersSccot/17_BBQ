{
 "cells": [
  {
   "cell_type": "code",
   "execution_count": 6,
   "metadata": {
    "pycharm": {
     "name": "#%%\n"
    }
   },
   "outputs": [],
   "source": [
    "############################################################\n",
    "# Code prepared by Damien Depannemaecker and Mallory Carlu #\n",
    "# associated to the figure 2(d) of the paper entitled:     #\n",
    "# Seizure-like propagation in spiking network models       #\n",
    "############################################################\n",
    "\n",
    "from brian2 import *\n",
    "import numpy as np\n",
    "from datetime import datetime\n",
    "\n",
    "#function use firing rate calculation\n",
    "# array表示在一个特定时间内的激活时间\n",
    "# bin表示时间间隔，\n",
    "# time_array表示时间序列，里面是每个时间点的时间，\n",
    "def bin_array(array, BIN, time_array):\n",
    "    # N0表示每个bin内的时间点个数\n",
    "    N0 = int(BIN/(time_array[1]-time_array[0]))\n",
    "    # N1表示在整个time_array以内，所包含的Bin的数目\n",
    "    N1 = int((time_array[-1]-time_array[0])/BIN)\n",
    "    # 返回一个序列内激活次数的平均值\n",
    "    return array[:N0*N1].reshape((N1,N0)).mean(axis=1)"
   ]
  },
  {
   "cell_type": "code",
   "execution_count": 7,
   "outputs": [],
   "source": [
    "Nseed=1\n",
    "NAmp=1\n",
    "NbS=1\n",
    "NbSim=NbS\n",
    "Nsim=NbS\n",
    "# 设置随机数种子，同时开启新的作用域\n",
    "seed(Nseed)\n",
    "start_scope()\n",
    "# 设计模拟时间的步长以及对应的神经元个数\n",
    "DT=0.1\n",
    "defaultclock.dt = DT*ms\n",
    "N1 = 2000#2000\n",
    "N2 = 8000#8000\n",
    "# 设置模拟时间\n",
    "TotTime=4000\n",
    "duration = TotTime*ms\n",
    "# 描述膜外电压v与时间t的关系,其中包含电导GsynE,GsynI的许多关系，这里对应论文里面的公式（1），单位为伏特\n",
    "# dv/dt = (-GsynE*(v-Ee)-GsynI*(v-Ei)-gl*(v-El)+ gl*Dt*exp((v-Vt)/Dt)-w + Is)/Cm : volt (unless refractory)\n",
    "# 这里的w大概对应神经元的适应程度\n",
    "# dw/dt = (a*(v-El)-w)/tau_w:ampere\n",
    "# 这里表述两个电导随时间变化的关系（单位是西门子）\n",
    "# GsynI: 抑制性输入的权重；GsynE: 兴奋性输入的权重\n",
    "# dGsynI/dt = -GsynI/Tsyn : siemens\n",
    "# dGsynE/dt = -GsynE/Tsyn : siemens\n",
    "# 后面是很多其余对应的参数单位\n",
    "# Is:ampere\n",
    "# Cm:farad\n",
    "# gl:siemens\n",
    "# El:volt\n",
    "# a:siemens\n",
    "# tau_w:second\n",
    "# Dt:volt\n",
    "# Vt:volt\n",
    "# Ee:volt\n",
    "# Ei:volt\n",
    "# Tsyn:second   \n",
    "# equation of the AdEx Model with \"conductance-based\" model of synapses \n",
    "eqs='''\n",
    "dv/dt = (-GsynE*(v-Ee)-GsynI*(v-Ei)-gl*(v-El)+ gl*Dt*exp((v-Vt)/Dt)-w + Is)/Cm : volt (unless refractory)\n",
    "dw/dt = (a*(v-El)-w)/tau_w:ampere\n",
    "dGsynI/dt = -GsynI/Tsyn : siemens\n",
    "dGsynE/dt = -GsynE/Tsyn : siemens\n",
    "Is:ampere\n",
    "Cm:farad\n",
    "gl:siemens\n",
    "El:volt\n",
    "a:siemens\n",
    "tau_w:second\n",
    "Dt:volt\n",
    "Vt:volt\n",
    "Ee:volt\n",
    "Ei:volt\n",
    "Tsyn:second\n",
    "'''#% neuron_params\n",
    "# Populations----------------------------------------------------------------------------------\n",
    "# 这里依据之前建立的Adex模型来构建完整的神经元网络，其中FS表示抑制性的神经元，RS为兴奋性的神经元\n",
    "# Population 1 - FS\n",
    "b1 = 0.0*pA\n",
    "# eqs表示神经元的动态方程，threshold表示神经元被触发的阈值，reset表示神经元被重置的值，refractory表示神经元的不应期，method表示使用的积分方式\n",
    "G1 = NeuronGroup(N1, eqs, threshold='v > -47.5*mV', reset='v = -65*mV', refractory='5*ms', method='heun')\n",
    "#init（初始化）:\n",
    "# 初始化电位\n",
    "G1.v = -65*mV\n",
    "# 初始化自适应参数\n",
    "G1.w = 0.0*pA\n",
    "# 抑制性输入的权重与兴奋性输入的权重初始化\n",
    "G1.GsynI=0.0*nS\n",
    "G1.GsynE=0.0*nS\n",
    "#parameters\n",
    "# 这里是神经元的参数设置\n",
    "# 膜电容\n",
    "G1.Cm = 200.*pF\n",
    "# 漏电流上的电导\n",
    "G1.gl = 10.*nS\n",
    "# 静息电位\n",
    "G1.El = -65.*mV\n",
    "# 电位兴奋阈值\n",
    "G1.Vt = -48.*mV\n",
    "# 膜电位动态阈值\n",
    "G1.Dt = 0.5*mV\n",
    "# 自适应变量时间常数\n",
    "G1.tau_w = 1.0*ms\n",
    "# 自适应系数\n",
    "G1.a = 0.0*nS\n",
    "# 外部突触输入输入\n",
    "G1.Is = 0.0 \n",
    "# 兴奋性输入\n",
    "G1.Ee=0.*mV\n",
    "# 抑制性输入\n",
    "G1.Ei=-80.*mV\n",
    "# 传递延迟\n",
    "G1.Tsyn=5.*ms\n",
    "# Population 2 - RS\n",
    "b2 = 100.*pA\n",
    "G2 = NeuronGroup(N2, eqs, threshold='v > -40.*mV', reset='v = -65*mV; w += b2', refractory='5*ms',  method='heun')\n",
    "G2.v = -65.*mV\n",
    "G2.w = 0.0*pA\n",
    "G2.GsynI=0.0*nS\n",
    "G2.GsynE=0.0*nS\n",
    "G2.Cm = 200.*pF\n",
    "G2.gl = 10.*nS\n",
    "G2.El = -65.*mV\n",
    "G2.Vt = -50.*mV\n",
    "G2.Dt = 2.*mV\n",
    "G2.tau_w = 1000.*ms\n",
    "G2.a = 0.*nS\n",
    "G2.Is = 0.0*nA \n",
    "G2.Ee=0.*mV\n",
    "G2.Ei=-80.*mV\n",
    "G2.Tsyn=5.*ms\n",
    "# external drive and seizure-like perturabation----------------------------------------------\n",
    "# AmpStim输入刺激的强度\n",
    "AmpStim=NAmp*5.+60  #80. #92.\n",
    "# 输入刺激的持续平台期\n",
    "plat = 1000\n",
    "def heaviside(x):\n",
    "    return 0.5 * (1 + np.sign(x))\n",
    "# 定义相应的输入脉冲\n",
    "# 这里的脉冲函数的表达式不太清楚具体原理（主要目的就是输入脉冲）\n",
    "def input_rate(t, t1_exc, tau1_exc, tau2_exc, ampl_exc, plateau):\n",
    "        # t1_exc=10. # time of the maximum of external stimulation\n",
    "        # tau1_exc=20. # first time constant of perturbation = rising time\n",
    "        # tau2_exc=50. # decaying time\n",
    "        # ampl_exc=20. # amplitude of excitation\n",
    "    inp = ampl_exc * (np.exp(-(t - t1_exc) ** 2 / (2. * tau1_exc ** 2)) * heaviside(-(t - t1_exc)) + \\\n",
    "                      heaviside(-(t - (t1_exc+plateau))) * heaviside(t - (t1_exc))+ \\\n",
    "                      np.exp(-(t - (t1_exc+plateau)) ** 2 / (2. * tau2_exc ** 2)) * heaviside(t - (t1_exc+plateau)))\n",
    "    return inp\n",
    "# 创建仿真时间序列\n",
    "t2 = np.arange(0, TotTime, DT)\n",
    "test_input = []\n",
    "# 输入的噪声强度\n",
    "TauP=20.+8*NbS\n",
    "# 将时间点，噪声，输入刺激，输入刺激的平台期产生对应时间的脉冲\n",
    "for ji in t2:\n",
    "    test_input.append(6.+input_rate(ji, 2000., TauP, TauP, AmpStim, plat))"
   ],
   "metadata": {
    "collapsed": false,
    "pycharm": {
     "name": "#%%\n"
    }
   }
  },
  {
   "cell_type": "code",
   "execution_count": 8,
   "outputs": [
    {
     "data": {
      "text/plain": "[<matplotlib.lines.Line2D at 0x1c98a6cd040>]"
     },
     "execution_count": 8,
     "metadata": {},
     "output_type": "execute_result"
    },
    {
     "data": {
      "text/plain": "<Figure size 640x480 with 1 Axes>",
      "image/png": "[encoded data removed]"
     },
     "metadata": {},
     "output_type": "display_data"
    }
   ],
   "source": [
    "BIN=10\n",
    "time_array = np.arange(int(TotTime/DT))*DT\n",
    "import matplotlib.pyplot as plt\n",
    "plt.plot(time_array, test_input)"
   ],
   "metadata": {
    "collapsed": false,
    "pycharm": {
     "name": "#%%\n"
    }
   }
  },
  {
   "cell_type": "code",
   "execution_count": 9,
   "outputs": [],
   "source": [
    "# 创建一个时间序列的脉冲充当刺激\n",
    "stimulus=TimedArray(test_input*Hz, dt=DT*ms)\n",
    "# 创建神经元组\n",
    "P_ed=PoissonGroup(8000, rates='stimulus(t)') #, dt=0.01*ms)\n",
    "# connections-----------------------------------------------------------------------------\n",
    "# 单位是n西门子\n",
    "Qi=5.0*nS\n",
    "Qe=1.5*nS\n",
    "# 神经元之间互连的概率\n",
    "prbC= 0.05 #0.05\n",
    "prbC2= 0.05 #0.065\n",
    "# 创建G1到G2之间神经元的突触，命名为S_12\n",
    "# G1是抑制性的，G2是兴奋性的\n",
    "# 这里的on_pre表示当前突触神经元发生后，后突触神经元电导将增加Qi\n",
    "S_12 = Synapses(G1, G2, on_pre='GsynI_post+=Qi') #'v_post -= 1.*mV')\n",
    "# 神经元之间不自连，连接的概率为prbC\n",
    "S_12.connect('i!=j', p=prbC)\n",
    "S_11 = Synapses(G1, G1, on_pre='GsynI_post+=Qi')\n",
    "S_11.connect('i!=j',p=prbC)\n",
    "# 这里的on_pre表示当前突触神经元发生后，后突触神经元电导将增加Qe\n",
    "S_21 = Synapses(G2, G1, on_pre='GsynE_post+=Qe')\n",
    "S_21.connect('i!=j',p=prbC)\n",
    "S_22 = Synapses(G2, G2, on_pre='GsynE_post+=Qe')\n",
    "S_22.connect('i!=j', p=prbC)\n",
    "# 这里是G1到P_ed的突触，命名为S_ed_in\n",
    "# 一但前面的神经元发出了动作电位，后面的神经元的电导将增加Qe\n",
    "S_ed_in = Synapses(P_ed, G1, on_pre='GsynE_post+=Qe')\n",
    "S_ed_in.connect(p=prbC2)\n",
    "# 这里是G2到P_ed的突触，命名为S_ed_ex\n",
    "S_ed_ex = Synapses(P_ed, G2, on_pre='GsynE_post+=Qe')\n",
    "S_ed_ex.connect(p=prbC)#0.05)\n",
    "# monitor tools to record during simulation-------------------------------------------------\n",
    "# 建立监视器用于记录数据\n",
    "#FRG1 = PopulationRateMonitor(G1)\n",
    "# 建立monitor来记录神经元动作电位的发放率\n",
    "FRG2 = PopulationRateMonitor(G2)\n",
    "FRPed= PopulationRateMonitor(P_ed)\n"
   ],
   "metadata": {
    "collapsed": false,
    "pycharm": {
     "name": "#%%\n"
    }
   }
  },
  {
   "cell_type": "code",
   "execution_count": 10,
   "metadata": {
    "pycharm": {
     "name": "#%%\n"
    }
   },
   "outputs": [],
   "source": [
    "# # Run the simulation ----------------------------------------------------------------------\n",
    "# # Sim表示本次仿真的序列\n",
    "# Sim=(Nseed+1)*(NAmp+1)*(NbS+1)\n",
    "# print(\"Starts Time:\", datetime.now())\n",
    "# print('Starts simulation #'+str(Sim))\n",
    "# run(duration)\n",
    "# print('Ends simulation #'+str(Sim))\n",
    "# print(\"Ends Time:\", datetime.now())\n",
    "# # Prepare and save data---------------------------------------------------------------------\n",
    "\n",
    "#LfrG1=np.array(FRG1.rate/Hz)\n",
    "#TimBinned,popRateG1=bin_array(time_array, BIN, time_array),bin_array(LfrG1, BIN, time_array)\n",
    "# LfrG2=np.array(FRG2.rate/Hz)\n",
    "# bin_array将序列分组并计算每组的平均值\n",
    "# TimBinned,popRateG2=bin_array(time_array, BIN, time_array),bin_array(LfrG2, BIN, time_array)\n",
    "# LfrPed=np.array(FRPed.rate/Hz)\n",
    "# TimBinned,popRatePed=bin_array(time_array, BIN, time_array),bin_array(LfrPed, BIN, time_array)\n",
    "# np.save('Seizure_Ref/Results2/AD_popRateExc_Sim_'+str(TauP)+'_Amp_'+str(NAmp)+'Nseed_'+str(Nseed)+'.npy', popRateG2)"
   ]
  },
  {
   "cell_type": "code",
   "execution_count": 11,
   "metadata": {
    "pycharm": {
     "name": "#%%\n"
    }
   },
   "outputs": [
    {
     "data": {
      "text/plain": "[<matplotlib.lines.Line2D at 0x1c98023c130>]"
     },
     "execution_count": 11,
     "metadata": {},
     "output_type": "execute_result"
    },
    {
     "data": {
      "text/plain": "<Figure size 640x480 with 1 Axes>",
      "image/png": "[encoded data removed]"
     },
     "metadata": {},
     "output_type": "display_data"
    }
   ],
   "source": [
    "BIN=10\n",
    "time_array = np.arange(int(TotTime/DT))*DT\n",
    "import matplotlib.pyplot as plt\n",
    "plt.plot(time_array, test_input)"
   ]
  },
  {
   "cell_type": "code",
   "execution_count": 12,
   "metadata": {
    "pycharm": {
     "name": "#%%\n"
    }
   },
   "outputs": [],
   "source": [
    "test_input=np.array(test_input)"
   ]
  }
 ],
 "metadata": {
  "kernelspec": {
   "display_name": "Python 3",
   "language": "python",
   "name": "python3"
  },
  "language_info": {
   "codemirror_mode": {
    "name": "ipython",
    "version": 3
   },
   "file_extension": ".py",
   "mimetype": "text/x-python",
   "name": "python",
   "nbconvert_exporter": "python",
   "pygments_lexer": "ipython3",
   "version": "3.9.18"
  }
 },
 "nbformat": 4,
 "nbformat_minor": 2
}